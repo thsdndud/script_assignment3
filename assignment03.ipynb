{
 "cells": [
  {
   "cell_type": "code",
   "execution_count": null,
   "metadata": {
    "scrolled": true
   },
   "outputs": [],
   "source": []
  },
  {
   "cell_type": "markdown",
   "metadata": {},
   "source": [
    "L=[1, 2, 3, 4, 5]일 때 다음 각 문장을 수행한 후의 결과를 보고 납득할 만한 이유를 설명하시오.\n",
    "\n",
    "1)다른 크기에 대한 슬라이스 치환으로, L의 인덱스 1,2가 100으로 대체되었다.\n",
    "\n",
    "2)다른 크기에 대한 슬라이스 치환으로, L의 인덱스 1,2가 (100)으로 대체되었다. 이 때 (100)이 숫자 100으로 인식되어서 100이 들어갔다.\n",
    "\n",
    "3)100을 []이 감싸지 않았기 때문에 iterable이 아니라서 리스트에 넣을 수 없다. 따라서 에러가 발생했다.\n",
    "L[1:3] = 100\n",
    "print(L)\n",
    "\n",
    "TypeError: can only assign an iterable\n",
    "\n",
    "4)()로 묶으면 튜플형 자료이지만 하나밖에 없기때문에 숫자 100으로 인식했다. 따라서 에러가 발생했다.\n",
    "L[1:3] = (100)\n",
    "print(L)\n",
    "\n",
    "TypeError: can only assign an iterable\n",
    "\n",
    "5)다른 크기에 대한 슬라이스 치환으로, L의 인덱스 1,2가 튜플의 시퀀스형 자료 3개 100,101,102으로 대체되었다.\n",
    "L[1:3] = (100, 101, 102)\n",
    "print(L)\n",
    "\n",
    "[1, 100, 101, 102, 4, 5]\n",
    "\n",
    "6)다른 크기에 대한 슬라이스 치환으로, L의 인덱스 1,2가 리스트의 시퀀스형 자료 3개 100, 101, 102으로 대체되었다.\n",
    "\n",
    "7)다른 크기에 대한 슬라이스 치환으로, L의 인덱스 1,2가 리스트의 시퀀스형 자료 1개 (100, 101, 102)으로 대체되었다.\n",
    "\n",
    "8)다른 크기에 대한 슬라이스 치환으로, L의 인덱스 1,2가 리스트의 시퀀스형 자료 1개 [100, 101, 102]으로 대체되었다."
   ]
  },
  {
   "cell_type": "code",
   "execution_count": null,
   "metadata": {},
   "outputs": [],
   "source": [
    "S = 'Hello World and Python'\n",
    "S = S[16:23] + \" \" + S[12:16] + S[6:12] + S[0:5]\n",
    "print(S)\n",
    "\n",
    "S = S.split()\n",
    "S = ''.join(S)\n",
    "print(S)"
   ]
  },
  {
   "cell_type": "markdown",
   "metadata": {},
   "source": [
    "1) 슬라이싱을 이용하여 각 단어별로 쪼갠다음 역순으로 재배치해주었다.\n",
    "\n",
    "2) split()을 이용하여 기존 문자열을 단어별로 쪼갠다음 join()을 이용하여 공백을 제거했다."
   ]
  },
  {
   "cell_type": "code",
   "execution_count": null,
   "metadata": {
    "scrolled": true
   },
   "outputs": [],
   "source": [
    "a = [1, 2, 3]\n",
    "\n",
    "a[0] = 0\n",
    "\n",
    "b = a * 3\n",
    "\n",
    "c = [a] * 3\n",
    "\n",
    "print(b)\n",
    "\n",
    "print(c)\n",
    "\n"
   ]
  },
  {
   "cell_type": "markdown",
   "metadata": {},
   "source": [
    "1) 위 코드를 수행한 이후 다음 코드를 수행한 후 b와 c의 내용을 확인하시오.<br/>\n",
    "a = [1, 2, 3, 1, 2, 3, 1, 2, 3]<br/>\n",
    "b = [[1, 2, 3], [1, 2, 3], [1, 2, 3]]\n",
    "\n",
    "2) b와 c 객체의 차이는 무엇인가?\n",
    "둘다 리스트 a를 세번 반복한 후 한개의 리스트에 넣어준 것이나<br/>\n",
    "b 는  리스트 a의 요소를 3번 반복하여 넣어주었고<br/>\n",
    "c 는 리스트 a자체를 3번 반복하여 넣어주었다."
   ]
  },
  {
   "cell_type": "code",
   "execution_count": null,
   "metadata": {},
   "outputs": [],
   "source": [
    "s = ' first star : second star : third star '\n",
    "I = []\n",
    "for i in s.split(\":\"):\n",
    "    I.append(i.strip())\n",
    "print(I)"
   ]
  },
  {
   "cell_type": "code",
   "execution_count": null,
   "metadata": {},
   "outputs": [],
   "source": [
    "s = ' first star : second star : third star '\n",
    "I = [i.strip() for i in s.split(\":\")]\n",
    "print(I)"
   ]
  },
  {
   "cell_type": "markdown",
   "metadata": {},
   "source": [
    "1) for_in 문에서 s.split(':')을 이용하여 :을 기준으로 문자열 s를 분리하여 단어를 나눈 뒤 이를 차례대로 리스트 I에 넣어주었다. 이 때 i 좌우의 공백을 지우면서 넣었다.\n",
    "\n",
    "2) 리스트 내포 리터럴 방식을 활용해서 위의 for문을 훨씬 더 간단한 방법으로 구현할 수 있었다. 작동원리는 동일하다."
   ]
  },
  {
   "cell_type": "code",
   "execution_count": null,
   "metadata": {},
   "outputs": [],
   "source": [
    "def addall(I):\n",
    "    a = 0\n",
    "    for i in I:\n",
    "        a += i\n",
    "    return a\n",
    "\n",
    "def addall2(I):\n",
    "    return sum(i for i in I)\n",
    "\n",
    "def addallodd(I):\n",
    "    a = 0\n",
    "    for i in I:\n",
    "        if(i%2 == 1):\n",
    "            a += i\n",
    "    return a\n",
    "\n",
    "def addallodd2(I):\n",
    "    return sum(i for i in I if(i%2 == 1))\n",
    "\n",
    "num = [1, 2, 3, 4, 5, 6, 7, 8, 9]\n",
    "\n",
    "print( addall( num ) )\n",
    "print( addall2( num ) )\n",
    "print( addallodd( num ) )\n",
    "print( addallodd2( num ) )"
   ]
  },
  {
   "cell_type": "markdown",
   "metadata": {},
   "source": [
    "1) addall(list) 함수 (리스트 내의 모든 정수를 더하는 함수로서 해답으로는 for ~ in 리터럴과 리스트 내포 방식으로 각각 제시하시오.)\n",
    "addall()함수를 define 하고 for ~ in 리터널을 사용하여 리스트 내의 정수를 더하게 한 후 더한것을 return하게 하였다.\n",
    "위의 for ~ in 리터널 대신 리스트 내포 방식으로 addall()을 구성하였다. 이때 나오는 i를 sum함수를 사용하여 모두 더한 뒤 return하게 하였다.\n",
    "\n",
    "2) addallodd(list) 함수 (리스트내의 모든 홀수를 더하는 함수로서 해답으로는 for ~ in 리터럴과 리스트 내포 방식으로 각각 제시하시오.)\n",
    "1)과 같지만 리스트 내의 숫자 중 홀수만 출력하기 위해 if문을 추가하였다. if문에서는 i가 홀수인지 검사해서 홀수라면 a에 더한다.\n",
    "리스트 내포 방식 역시 1)과 같으나 홀수만 출력하게 하는 if문을 추가하였다."
   ]
  },
  {
   "cell_type": "code",
   "execution_count": null,
   "metadata": {},
   "outputs": [],
   "source": [
    "L1 = [1, 2, 3]\n",
    "L2 = [4, 5, 6]\n",
    "d = {'low':L1, 'high':L2}\n",
    "e = d\n",
    "f = d.copy()\n",
    "print(d)\n",
    "print(e)\n",
    "print(f)\n",
    "print()\n",
    "\n",
    "d['low'] = [10, 20, 30]\n",
    "d['high'][1] = 500\n",
    "print(d)\n",
    "print(e)\n",
    "print(f)"
   ]
  },
  {
   "cell_type": "markdown",
   "metadata": {},
   "source": [
    "1) e 에 d를 할당하면 값이 할당되는 것이 아니라 같은 메모리 주소를 바라본다. 사전과 리스트는 mutable 하기 때문에 d를 변경하면 같이 e도 바뀐다. 따라서 항상 같은 결과를 출력한다.<br/>\n",
    "2) copy()을 사용해서 f에 d를 할당하면, 얕은복사가 일어난다. 따라서 d와 값이 같은 객체가 새로 생성되고 f는 새로운 객체를 가리키게 된다. high의 1번째 요소를 500으로 바꾸는 것은 high 내부의 있는 값만 바꾸는 것이므로 high 주소에는 변함이 없다. 그러나 low 의 값을 바꾸는 것은 d가 가리키는 low만 바뀌는 것이므로 f가 가리키는 low는 1,2,3을 그대로 가리키게 된다. 결국 d와e의 low 값만 바뀌게 된다."
   ]
  },
  {
   "cell_type": "code",
   "execution_count": 25,
   "metadata": {},
   "outputs": [
    {
     "name": "stdout",
     "output_type": "stream",
     "text": [
      "[('five', 5), ('four', 4), ('one', 1), ('three', 3), ('two', 2)]\n",
      "[('two', 2), ('three', 3), ('one', 1), ('four', 4), ('five', 5)]\n",
      "[('one', 1), ('two', 2), ('three', 3), ('four', 4), ('five', 5)]\n",
      "[('five', 5), ('four', 4), ('three', 3), ('two', 2), ('one', 1)]\n"
     ]
    }
   ],
   "source": [
    "d = {'one':1, 'two':2, 'three':3, 'four':4, 'five':5}\n",
    "temp = {}\n",
    "temp2 = {}\n",
    "\n",
    "Keys = list(d.keys())\n",
    "nums = list(d.values())\n",
    "Keys.sort()\n",
    "\n",
    "for i in Keys:\n",
    "    for j in nums:\n",
    "        if(d[i] == j):\n",
    "            temp[i] = j\n",
    "            break\n",
    "            \n",
    "tupleKeys = list(temp.items())\n",
    "print(tupleKeys)\n",
    "tupleKeys.reverse()\n",
    "print(tupleKeys)\n",
    "\n",
    "Keys = list(d.keys())#keys 초기화\n",
    "nums.sort()\n",
    "\n",
    "for i in nums:\n",
    "    for j in Keys:\n",
    "        if(d[j] == i):\n",
    "            temp2[j] = i\n",
    "            break\n",
    "tupleNums = list(temp2.items())\n",
    "print(tupleNums)\n",
    "tupleNums.reverse()\n",
    "print(tupleNums)"
   ]
  },
  {
   "cell_type": "markdown",
   "metadata": {},
   "source": [
    "1) 키의 알파벳 오름차순 순서대로 튜플 (키, 값)을 차례대로 출력하시오.<br/>\n",
    " Keys = list(d.keys()) keys()를 이용해 사전 d의 key 들만 모은 Keys 리스트를 만든다. values()를 이용해 사전 d의 값들만 모은 nums 리스트를 만 든다. sort()를 이용해 Keys를 알파벳 오름차순으로 정리한다.이때 sort와 for문을 사용하기 위해 리스트로 바꿔주었다. 바뀐 Keys와 원래nums를 앞에서부터 1:1 검사시켜서 만약 둘이 대응한다면 이를 사전형태의 temp에 넣는다. 이때 Keys우선으로 검색하기 때문에 알파벳 오름차순으로 temp에 들어가게 된다. temp를 tupleKeys에 넣어주고 이를 출력한다.<br/>\n",
    "\n",
    "2) 키의 알파벳 내림차순 순서대로 튜플 (키, 값)을 차례대로 출력하시오.<br/>\n",
    " 1)을 reverse()시켜서 출력한다. 이를 위해 이전에 temp를 리스트 형태로 tupleNums에 넣어주었다.<br/>\n",
    "\n",
    "3) 값의 오름차순 순서대로 튜플 (키, 값)을 차례대로 출력하시오.<br/>\n",
    " Keys = list(d.keys()) keys()를 이용해 사전 d의 key 들만 모은 Keys 리스트를 만든다. values()를 이용해 사전 d의 값들만 모은 nums 리스트를 만든다. sort()를 이용해 nums를 값의 오름차순으로 정리한다.이때 sort와 for문을 사용하기 위해 리스트로 바꿔주었다. 원래 Keys와 바뀐nums를 앞에서부터 1:1 검사시켜서 만약 둘이 대응한다면 이를 사전형태의 temp에 넣는다. 이때 nums우선으로 검색하기 때문에 값의 오름차순으로 temp에 들어가게 된다. temp를 tupleKeys에 넣어주고 이를 출력한다.<br/>\n",
    "\n",
    "4) 값의 내림차순 순서대로 튜플 (키, 값)을 차례대로 출력하시오.<br/>\n",
    " 3)을 reverse()시켜서 출력한다. 이를 위해 이전에 temp를 리스트 형태로 tupleNums에 넣어주었다."
   ]
  },
  {
   "cell_type": "code",
   "execution_count": 26,
   "metadata": {},
   "outputs": [],
   "source": [
    "try:\n",
    "    while(1):\n",
    "        i = input().split()\n",
    "        n = int(i[0])\n",
    "        k = int(i[1])\n",
    "        chicken = n\n",
    "        \n",
    "        while(k<=n):\n",
    "            m = int(n/k)\n",
    "            chicken += m\n",
    "            n = n%k\n",
    "            n += m\n",
    "            \n",
    "        print(chicken)\n",
    "except:\n",
    "    exit()"
   ]
  },
  {
   "cell_type": "markdown",
   "metadata": {},
   "source": [
    "먼저 사용자로부터 치킨 쿠폰 n과 필요한 도장 개수 k를 입력받는다. 가지고 있는 쿠폰만큼 먹을 수 있기에 일단 쿠폰 수 만큼 먹을 수 있다고 가정한다. 먹을수있는 치킨 수 == chicken이다. 치킨 쿠폰 수만큼 도장을 받으니, n이 k보다 많으면 많을 수록 더 많은 치킨을 먹을 수 있다. 이를 계산해서 n이 k보다 작을 때까지 계속 도장을 소모해서 치킨을 더 시켜 먹는다. 이때 치킨을 시켜먹은 만큼 당연히 도장도 추가로 얻는다. 결국 while문을 돌릴 수 없을 때까지 도장을 소모하면 chicken을 출력한다. 계속 입력받을 수 있도록 이 과정을 무한루프로 돌리고, 오류가 발생하면 종료한다."
   ]
  },
  {
   "cell_type": "code",
   "execution_count": null,
   "metadata": {},
   "outputs": [],
   "source": []
  }
 ],
 "metadata": {
  "kernelspec": {
   "display_name": "Python 3",
   "language": "python",
   "name": "python3"
  },
  "language_info": {
   "codemirror_mode": {
    "name": "ipython",
    "version": 3
   },
   "file_extension": ".py",
   "mimetype": "text/x-python",
   "name": "python",
   "nbconvert_exporter": "python",
   "pygments_lexer": "ipython3",
   "version": "3.6.5"
  }
 },
 "nbformat": 4,
 "nbformat_minor": 2
}
